{
 "cells": [
  {
   "cell_type": "markdown",
   "metadata": {},
   "source": [
    "# Porta dos Desesperados\n",
    "\n",
    "## Projeto de ME323\n",
    "\n",
    "### Aluno: Luan Egidio Ferreira ; RA: 151196\n",
    "\n",
    "No gráfico resultante podemos ver que a taxa de sucesso acumulada para a estratégia de sempre trocar (verde) claramente supera a de nunca trocar (vermelho).\n"
   ]
  },
  {
   "cell_type": "code",
   "execution_count": 74,
   "metadata": {},
   "outputs": [],
   "source": [
    "# Importando bibliotecas a serem utilizadas\n",
    "%matplotlib inline\n",
    "import matplotlib.pyplot as plt           # Grafico\n",
    "plt.style.use('seaborn-whitegrid')        # Grafico\n",
    "import random                             # Aleatoriedade\n",
    "import numpy as np                        # Computar estatistica"
   ]
  },
  {
   "cell_type": "code",
   "execution_count": 75,
   "metadata": {},
   "outputs": [],
   "source": [
    "# Inicializando os dados\n",
    "doors = ['A','B','C']                     # Portas possiveis\n",
    "alwaysChange = []                         # Contem o resultado do experimento i na posicao i (sempre mudar)\n",
    "dontChange = []                           # Contem o resultado do experimento i na posicao i (nunca mudar)\n",
    "accumulatedAlwaysChange = []              # Contem a proporcao de sucesso acumulado ate o experimento i\n",
    "accumulatedDontChange = []                # Contem a proporcao de sucesso acumulado ate o experimento i"
   ]
  },
  {
   "cell_type": "code",
   "execution_count": 76,
   "metadata": {},
   "outputs": [],
   "source": [
    "# Quantitade de experimentos\n",
    "totalAttempts = 5000"
   ]
  },
  {
   "cell_type": "code",
   "execution_count": 77,
   "metadata": {
    "scrolled": false
   },
   "outputs": [
    {
     "data": {
      "image/png": "[encoded data removed]",
      "text/plain": [
       "<Figure size 432x288 with 1 Axes>"
      ]
     },
     "metadata": {},
     "output_type": "display_data"
    }
   ],
   "source": [
    "# Computa experimentos\n",
    "for i in range(0, totalAttempts):\n",
    "    premium = random.choice(doors) # Porta premiada\n",
    "    selectedAtFirst = random.choice(doors) # Primeira porta selecionada\n",
    "    shown = random.choice([x for x in doors if (x != premium and x != selectedAtFirst)]) # Porta revelada\n",
    "    nextWhenChanged = random.choice([x for x in doors if (x != shown and x != selectedAtFirst)]) # Porta apos troca\n",
    "    alwaysChange.append(nextWhenChanged == premium) # Guarda resultado na estrategia de sempre mudar\n",
    "    dontChange.append(selectedAtFirst == premium)   # Guarda resultado na estrategia de nunca mudar\n",
    "    accumulatedAlwaysChange.append(np.mean(alwaysChange)) # Guarda proporcao de sucesso acumulado (sempre mudar)\n",
    "    accumulatedDontChange.append(np.mean(dontChange)) # Guarda proporcao de sucesso acumulado (nunca mudar)\n",
    "\n",
    "# Cria o grafico\n",
    "fig = plt.figure()\n",
    "ax = plt.axes()\n",
    "x = np.linspace(0, totalAttempts, totalAttempts)\n",
    "ax.plot(x, accumulatedAlwaysChange, '-g'); # Sempre mudar: Verde\n",
    "ax.plot(x, accumulatedDontChange, '-r');   # Nunca mudar: Vermelho\n",
    "\n"
   ]
  },
  {
   "cell_type": "markdown",
   "metadata": {},
   "source": [
    "Segue projeto todo em apenas um script:"
   ]
  },
  {
   "cell_type": "code",
   "execution_count": 73,
   "metadata": {},
   "outputs": [
    {
     "data": {
      "image/png": "[encoded data removed]",
      "text/plain": [
       "<Figure size 432x288 with 1 Axes>"
      ]
     },
     "metadata": {},
     "output_type": "display_data"
    }
   ],
   "source": [
    "# Importando bibliotecas a serem utilizadas\n",
    "%matplotlib inline\n",
    "import matplotlib.pyplot as plt           # Grafico\n",
    "plt.style.use('seaborn-whitegrid')        # Grafico\n",
    "import random                             # Aleatoriedade\n",
    "import numpy as np                        # Computar estatistica\n",
    "# Inicializando os dados\n",
    "doors = ['A','B','C']                     # Portas possiveis\n",
    "alwaysChange = []                         # Contem o resultado do experimento i na posicao i (sempre mudar)\n",
    "dontChange = []                           # Contem o resultado do experimento i na posicao i (nunca mudar)\n",
    "accumulatedAlwaysChange = []              # Contem a proporcao de sucesso acumulado ate o experimento i\n",
    "accumulatedDontChange = []                # Contem a proporcao de sucesso acumulado ate o experimento i\n",
    "# Quantitade de experimentos\n",
    "totalAttempts = 5000\n",
    "# Computa experimentos\n",
    "for i in range(0, totalAttempts):\n",
    "    premium = random.choice(doors) # Porta premiada\n",
    "    selectedAtFirst = random.choice(doors) # Primeira porta selecionada\n",
    "    shown = random.choice([x for x in doors if (x != premium and x != selectedAtFirst)]) # Porta revelada\n",
    "    nextWhenChanged = random.choice([x for x in doors if (x != shown and x != selectedAtFirst)]) # Porta apos troca\n",
    "    alwaysChange.append(nextWhenChanged == premium) # Guarda resultado na estrategia de sempre mudar\n",
    "    dontChange.append(selectedAtFirst == premium)   # Guarda resultado na estrategia de nunca mudar\n",
    "    accumulatedAlwaysChange.append(np.mean(alwaysChange)) # Guarda proporcao de sucesso acumulado (sempre mudar)\n",
    "    accumulatedDontChange.append(np.mean(dontChange)) # Guarda proporcao de sucesso acumulado (nunca mudar)\n",
    "\n",
    "# Cria o grafico\n",
    "fig = plt.figure()\n",
    "ax = plt.axes()\n",
    "x = np.linspace(0, totalAttempts, totalAttempts)\n",
    "ax.plot(x, accumulatedAlwaysChange, '-g'); # Sempre mudar: Verde\n",
    "ax.plot(x, accumulatedDontChange, '-r');   # Nunca mudar: Vermelho"
   ]
  },
  {
   "cell_type": "code",
   "execution_count": null,
   "metadata": {},
   "outputs": [],
   "source": []
  }
 ],
 "metadata": {
  "kernelspec": {
   "display_name": "Python 3",
   "language": "python",
   "name": "python3"
  },
  "language_info": {
   "codemirror_mode": {
    "name": "ipython",
    "version": 3
   },
   "file_extension": ".py",
   "mimetype": "text/x-python",
   "name": "python",
   "nbconvert_exporter": "python",
   "pygments_lexer": "ipython3",
   "version": "3.7.1"
  }
 },
 "nbformat": 4,
 "nbformat_minor": 2
}
