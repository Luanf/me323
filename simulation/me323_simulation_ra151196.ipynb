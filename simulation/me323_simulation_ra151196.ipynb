{
 "cells": [
  {
   "cell_type": "code",
   "execution_count": 91,
   "metadata": {},
   "outputs": [],
   "source": [
    "# Importando bibliotecas\n",
    "%matplotlib inline\n",
    "import matplotlib.pyplot as plt           # Grafico\n",
    "plt.style.use('seaborn-whitegrid')        # Grafico\n",
    "import random                             # Aleatoriedade\n",
    "import statistics                         # Media e Desvio Padrao\n",
    "import math                               # Fatorial\n",
    "\n",
    "# Funcao auxiliar retorna 1 se o voto ocorreu baseado na probabilidade\n",
    "# do candidato\n",
    "def voted_or_not(candidate_probability):\n",
    "    random_val = random.random()\n",
    "    if random_val < candidate_probability:\n",
    "        return 1\n",
    "    else:\n",
    "        return 0\n",
    "\n",
    "# Inicializa os dados\n",
    "P = 10000 # Populacao total\n",
    "A = 3000  # Votos no candidato A\n",
    "B = 7000  # Votos no candidato B\n",
    "N1 = 5000 # Amostra 1\n",
    "N2 = 30   # Amostra 2\n",
    "\n",
    "# Calcula proporcao amostral para votos em A baseada em N\n",
    "def p_hat_of_A_in_N(N):\n",
    "    chance_of_voting_in_A = A/P\n",
    "    voted_for_A_in_N = 0\n",
    "    for i in range(M):\n",
    "        voted_for_A_in_N += voted_or_not(chance_of_voting_in_A)\n",
    "    # Proporcao Amostral de votos no candidado A (p chapéu)\n",
    "    p_hat = voted_for_A_in_N / N\n",
    "    return p_hat\n",
    "\n",
    "# Popula dados\n",
    "all_p_hats_1 = []\n",
    "all_p_hats_2 = []\n",
    "for i in range(2000):\n",
    "    all_p_hats_1.append(p_hat_of_A_in_M(N1))\n",
    "    all_p_hats_2.append(p_hat_of_A_in_M(N2))\n"
   ]
  },
  {
   "cell_type": "code",
   "execution_count": 92,
   "metadata": {},
   "outputs": [
    {
     "name": "stdout",
     "output_type": "stream",
     "text": [
      "N = 5000\n",
      "Media = 0.2999383\n",
      "Desvio Padrao= 0.006478775587254123\n"
     ]
    },
    {
     "data": {
      "image/png": "[encoded data removed]",
      "text/plain": [
       "<Figure size 432x288 with 1 Axes>"
      ]
     },
     "metadata": {},
     "output_type": "display_data"
    }
   ],
   "source": [
    "# Histograma 1 (M = 5000)\n",
    "n, bins, patches = plt.hist(x=all_p_hats_1, bins='auto', color='#0504aa',\n",
    "                            alpha=0.7, rwidth=0.85)\n",
    "plt.grid(axis='y', alpha = 0.9)\n",
    "plt.xlabel('Valor')\n",
    "plt.ylabel('Frequencia')\n",
    "plt.title('Amostra de {} eleitores'.format(N1))\n",
    "\n",
    "# Media e desvio padrao:\n",
    "mean_1 = statistics.mean(all_p_hats_1)\n",
    "std_dev_1 = statistics.pstdev(all_p_hats_1)\n",
    "print('N =', N1)\n",
    "print('Media =', mean_1)\n",
    "print('Desvio Padrao=', std_dev_1)"
   ]
  },
  {
   "cell_type": "code",
   "execution_count": 93,
   "metadata": {},
   "outputs": [
    {
     "name": "stdout",
     "output_type": "stream",
     "text": [
      "N = 30\n",
      "Media = 0.3005\n",
      "Desvio Padrao= 0.0844838906406291\n"
     ]
    },
    {
     "data": {
      "image/png": "[encoded data removed]",
      "text/plain": [
       "<Figure size 432x288 with 1 Axes>"
      ]
     },
     "metadata": {},
     "output_type": "display_data"
    }
   ],
   "source": [
    "# Histograma 2\n",
    "n, bins, patches = plt.hist(x=all_p_hats_2, bins='auto', color='#0504aa',\n",
    "                            alpha=0.7, rwidth=0.85)\n",
    "plt.grid(axis='y', alpha = 0.9)\n",
    "plt.xlabel('Valor')\n",
    "plt.ylabel('Frequencia')\n",
    "plt.title('Amostra de {} eleitores'.format(N2))\n",
    "\n",
    "# Media e desvio padrao\n",
    "mean_2 = statistics.mean(all_p_hats_2)\n",
    "std_dev_2 = statistics.pstdev(all_p_hats_2)\n",
    "print('N =', N2)\n",
    "print('Media =', mean_2)\n",
    "print('Desvio Padrao=', std_dev_2)"
   ]
  },
  {
   "cell_type": "code",
   "execution_count": 95,
   "metadata": {},
   "outputs": [],
   "source": [
    "# Comentarios:\n",
    "# Com ambas amostragens foi obtimo uma média da proporcao amostral\n",
    "# bem razoável (próximo a proporção populacional de 0.3)\n",
    "# no entanto, como esperado, obtemos um valor de desvio padrão bem maior\n",
    "# quando a amostragem é pequena. Isto é, existe uma clara desvantagem na precisão\n",
    "# da proporcão amostral quando escolhido uma amostra pequena.\n",
    "# Isso é consistente com o aprendido em aula."
   ]
  }
 ],
 "metadata": {
  "kernelspec": {
   "display_name": "Python 3",
   "language": "python",
   "name": "python3"
  },
  "language_info": {
   "codemirror_mode": {
    "name": "ipython",
    "version": 3
   },
   "file_extension": ".py",
   "mimetype": "text/x-python",
   "name": "python",
   "nbconvert_exporter": "python",
   "pygments_lexer": "ipython3",
   "version": "3.7.1"
  }
 },
 "nbformat": 4,
 "nbformat_minor": 2
}
